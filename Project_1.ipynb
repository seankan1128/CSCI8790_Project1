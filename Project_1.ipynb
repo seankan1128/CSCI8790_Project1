{
 "cells": [
  {
   "cell_type": "code",
   "execution_count": 2,
   "metadata": {},
   "outputs": [],
   "source": [
    "from BloomFilter import BloomFilter\n",
    "from random import shuffle\n",
    "import pandas as pd\n",
    "import random\n",
    "import matplotlib.pyplot as plt"
   ]
  },
  {
   "cell_type": "code",
   "execution_count": 3,
   "metadata": {},
   "outputs": [],
   "source": [
    "n = 2**20 #size of the array\n",
    "h = 6 #num of hash_f\n",
    "  \n",
    "bloomf = BloomFilter(n,h)"
   ]
  },
  {
   "cell_type": "code",
   "execution_count": 4,
   "metadata": {},
   "outputs": [],
   "source": [
    "# words to be added\n",
    "word_present = ['abound','abounds','abundance','abundant','accessible',\n",
    "                'bloom','blossom','bolster','bonny','bonus','bonuses',\n",
    "                'coherent','cohesive','colorful','comely','comfort',\n",
    "                'gems','generosity','generous','generously','genial']\n",
    "  \n",
    "# word not added\n",
    "word_absent = ['bluff','cheater','hate','war','humanity',\n",
    "               'racism','hurt','nuke','gloomy','facebook',\n",
    "               'geeksforgeeks','twitter']"
   ]
  },
  {
   "cell_type": "code",
   "execution_count": 5,
   "metadata": {},
   "outputs": [
    {
     "data": {
      "text/plain": [
       "21"
      ]
     },
     "execution_count": 5,
     "metadata": {},
     "output_type": "execute_result"
    }
   ],
   "source": [
    "len(word_present)"
   ]
  },
  {
   "cell_type": "code",
   "execution_count": 6,
   "metadata": {},
   "outputs": [],
   "source": [
    "for item in word_present:\n",
    "    bloomf.insert_str(item)\n",
    "  \n",
    "shuffle(word_present)\n",
    "shuffle(word_absent)"
   ]
  },
  {
   "cell_type": "code",
   "execution_count": 7,
   "metadata": {},
   "outputs": [],
   "source": [
    "test_words = word_present[:10] + word_absent"
   ]
  },
  {
   "cell_type": "code",
   "execution_count": 8,
   "metadata": {},
   "outputs": [],
   "source": [
    "shuffle(test_words)"
   ]
  },
  {
   "cell_type": "code",
   "execution_count": 9,
   "metadata": {},
   "outputs": [
    {
     "name": "stdout",
     "output_type": "stream",
     "text": [
      "'facebook' is definitely not present!\n",
      "'cheater' is definitely not present!\n",
      "'abound' is probably present!\n",
      "'gloomy' is definitely not present!\n",
      "'geeksforgeeks' is definitely not present!\n",
      "'gems' is probably present!\n",
      "'accessible' is probably present!\n",
      "'bloom' is probably present!\n",
      "'hurt' is definitely not present!\n",
      "'twitter' is definitely not present!\n",
      "'comfort' is probably present!\n",
      "'war' is definitely not present!\n",
      "'blossom' is probably present!\n",
      "'racism' is definitely not present!\n",
      "'bluff' is definitely not present!\n",
      "'humanity' is definitely not present!\n",
      "'bolster' is probably present!\n",
      "'coherent' is probably present!\n",
      "'hate' is definitely not present!\n",
      "'comely' is probably present!\n",
      "'nuke' is definitely not present!\n",
      "'colorful' is probably present!\n"
     ]
    }
   ],
   "source": [
    "for word in test_words:\n",
    "    if bloomf.testmembership_str(word):\n",
    "        if word in word_absent:\n",
    "            print(\"'{}' is a false positive!\".format(word))\n",
    "        else:\n",
    "            print(\"'{}' is probably present!\".format(word))\n",
    "    else:\n",
    "        print(\"'{}' is definitely not present!\".format(word))"
   ]
  },
  {
   "cell_type": "code",
   "execution_count": 10,
   "metadata": {},
   "outputs": [],
   "source": [
    "bloomfilter_size = [2**4,2**8,2**12,2**16,2**20]\n",
    "num_hash = [2,4,6,8]\n",
    "num_of_str = [100,250,500,750,1000,2500,5000,7500,10000,25000]"
   ]
  },
  {
   "cell_type": "code",
   "execution_count": 11,
   "metadata": {},
   "outputs": [],
   "source": [
    "bloomfilter_list_1 = []\n",
    "for num in num_hash:\n",
    "    bloomfilter_list_1.append(BloomFilter(bloomfilter_size[0],num))\n",
    "bloomfilter_list_2 = []\n",
    "for num in num_hash:\n",
    "    bloomfilter_list_2.append(BloomFilter(bloomfilter_size[1],num))\n",
    "bloomfilter_list_3 = []\n",
    "for num in num_hash:\n",
    "    bloomfilter_list_3.append(BloomFilter(bloomfilter_size[2],num))\n",
    "bloomfilter_list_4 = []\n",
    "for num in num_hash:\n",
    "    bloomfilter_list_4.append(BloomFilter(bloomfilter_size[3],num))\n",
    "bloomfilter_list_5 = []\n",
    "for num in num_hash:\n",
    "    bloomfilter_list_5.append(BloomFilter(bloomfilter_size[4],num))"
   ]
  },
  {
   "cell_type": "code",
   "execution_count": 12,
   "metadata": {},
   "outputs": [
    {
     "name": "stdout",
     "output_type": "stream",
     "text": [
      "(42895, 1)\n",
      "<bound method NDFrame.head of               a\n",
      "0           a's\n",
      "1            aa\n",
      "2           aaa\n",
      "3          aahs\n",
      "4           aal\n",
      "...         ...\n",
      "42890     zorro\n",
      "42891  zucchini\n",
      "42892      zulu\n",
      "42893    zurich\n",
      "42894    zydeco\n",
      "\n",
      "[42895 rows x 1 columns]>\n"
     ]
    }
   ],
   "source": [
    "data = pd.read_csv(\"wlist_match11.txt\")\n",
    "print(data.shape)\n",
    "print(data.head)\n",
    "word_list_1 = data.values.tolist()\n",
    "word_list = [ item for elem in word_list_1 for item in elem]\n"
   ]
  },
  {
   "cell_type": "code",
   "execution_count": 13,
   "metadata": {},
   "outputs": [],
   "source": [
    "#Shuffle with seed number 1\n",
    "random.Random(1).shuffle(word_list)"
   ]
  },
  {
   "cell_type": "code",
   "execution_count": 14,
   "metadata": {},
   "outputs": [],
   "source": [
    "#Create a list of word presented\n",
    "#25000 words in total\n",
    "present_list = []\n",
    "for i in range(25000):\n",
    "    present_list.append(word_list[i])"
   ]
  },
  {
   "cell_type": "code",
   "execution_count": 15,
   "metadata": {},
   "outputs": [
    {
     "data": {
      "text/plain": [
       "15000"
      ]
     },
     "execution_count": 15,
     "metadata": {},
     "output_type": "execute_result"
    }
   ],
   "source": [
    "#Create a list of words not presented\n",
    "#Each with length 15000 for stability of FP rate\n",
    "unpresent_list = []\n",
    "for i in range(15000):\n",
    "    unpresent_list.append(word_list[25000+i])\n",
    "\n",
    "len(unpresent_list)\n"
   ]
  },
  {
   "cell_type": "code",
   "execution_count": 16,
   "metadata": {},
   "outputs": [
    {
     "name": "stdout",
     "output_type": "stream",
     "text": [
      "24954\n"
     ]
    }
   ],
   "source": [
    "#Check for failed word\n",
    "for i in range(25000):\n",
    "    if(isinstance(present_list[i], float) == True):\n",
    "        print(i)\n",
    "        break\n"
   ]
  },
  {
   "cell_type": "code",
   "execution_count": 17,
   "metadata": {},
   "outputs": [],
   "source": [
    "unpresent_list[8446] = \"dsadsa\"\n",
    "present_list[24954] = \"asdasd\""
   ]
  },
  {
   "cell_type": "code",
   "execution_count": 18,
   "metadata": {},
   "outputs": [],
   "source": [
    "fp_rates_list_1 = []\n",
    "\n",
    "for k in range(len(bloomfilter_list_1)):\n",
    "\n",
    "    temp = []\n",
    "\n",
    "    for n in range(len(num_of_str)):\n",
    "\n",
    "        for i in range(num_of_str[n]):\n",
    "\n",
    "            bloomfilter_list_1[k].insert_str(present_list[i])\n",
    "\n",
    "        fp = 0\n",
    "\n",
    "        for j in range(len(unpresent_list)):\n",
    "\n",
    "            if((bloomfilter_list_1[k].testmembership_str(unpresent_list[j])) == True):\n",
    "                \n",
    "                fp = fp + 1\n",
    "\n",
    "        fp_rate = fp/len(unpresent_list)\n",
    "\n",
    "        temp.append(fp_rate)\n",
    "\n",
    "    fp_rates_list_1.append(temp)\n",
    "        "
   ]
  },
  {
   "cell_type": "code",
   "execution_count": 19,
   "metadata": {},
   "outputs": [],
   "source": [
    "fp_rates_list_2 = []\n",
    "\n",
    "for k in range(len(bloomfilter_list_2)):\n",
    "\n",
    "    temp = []\n",
    "\n",
    "    for n in range(len(num_of_str)):\n",
    "\n",
    "        for i in range(num_of_str[n]):\n",
    "\n",
    "            bloomfilter_list_2[k].insert_str(present_list[i])\n",
    "\n",
    "        fp = 0\n",
    "\n",
    "        for j in range(len(unpresent_list)):\n",
    "\n",
    "            if((bloomfilter_list_2[k].testmembership_str(unpresent_list[j])) == True):\n",
    "                \n",
    "                fp = fp + 1\n",
    "\n",
    "        fp_rate = fp/len(unpresent_list)\n",
    "\n",
    "        temp.append(fp_rate)\n",
    "\n",
    "    fp_rates_list_2.append(temp)\n",
    "        "
   ]
  },
  {
   "cell_type": "code",
   "execution_count": 20,
   "metadata": {},
   "outputs": [],
   "source": [
    "fp_rates_list_3 = []\n",
    "\n",
    "for k in range(len(bloomfilter_list_3)):\n",
    "\n",
    "    temp = []\n",
    "\n",
    "    for n in range(len(num_of_str)):\n",
    "\n",
    "        for i in range(num_of_str[n]):\n",
    "\n",
    "            bloomfilter_list_3[k].insert_str(present_list[i])\n",
    "\n",
    "        fp = 0\n",
    "\n",
    "        for j in range(len(unpresent_list)):\n",
    "\n",
    "            if((bloomfilter_list_3[k].testmembership_str(unpresent_list[j])) == True):\n",
    "                \n",
    "                fp = fp + 1\n",
    "\n",
    "        fp_rate = fp/len(unpresent_list)\n",
    "\n",
    "        temp.append(fp_rate)\n",
    "\n",
    "    fp_rates_list_3.append(temp)\n",
    "        "
   ]
  },
  {
   "cell_type": "code",
   "execution_count": 21,
   "metadata": {},
   "outputs": [],
   "source": [
    "fp_rates_list_4 = []\n",
    "\n",
    "for k in range(len(bloomfilter_list_4)):\n",
    "\n",
    "    temp = []\n",
    "\n",
    "    for n in range(len(num_of_str)):\n",
    "\n",
    "        for i in range(num_of_str[n]):\n",
    "\n",
    "            bloomfilter_list_4[k].insert_str(present_list[i])\n",
    "\n",
    "        fp = 0\n",
    "\n",
    "        for j in range(len(unpresent_list)):\n",
    "\n",
    "            if((bloomfilter_list_4[k].testmembership_str(unpresent_list[j])) == True):\n",
    "                \n",
    "                fp = fp + 1\n",
    "\n",
    "        fp_rate = fp/len(unpresent_list)\n",
    "\n",
    "        temp.append(fp_rate)\n",
    "\n",
    "    fp_rates_list_4.append(temp)\n",
    "        "
   ]
  },
  {
   "cell_type": "code",
   "execution_count": 22,
   "metadata": {},
   "outputs": [],
   "source": [
    "fp_rates_list_5 = []\n",
    "\n",
    "for k in range(len(bloomfilter_list_5)):\n",
    "\n",
    "    temp = []\n",
    "\n",
    "    for n in range(len(num_of_str)):\n",
    "\n",
    "        for i in range(num_of_str[n]):\n",
    "\n",
    "            bloomfilter_list_5[k].insert_str(present_list[i])\n",
    "\n",
    "        fp = 0\n",
    "\n",
    "        for j in range(len(unpresent_list)):\n",
    "\n",
    "            if((bloomfilter_list_5[k].testmembership_str(unpresent_list[j])) == True):\n",
    "                \n",
    "                fp = fp + 1\n",
    "\n",
    "        fp_rate = fp/len(unpresent_list)\n",
    "\n",
    "        temp.append(fp_rate)\n",
    "\n",
    "    fp_rates_list_5.append(temp)\n",
    "        "
   ]
  },
  {
   "cell_type": "code",
   "execution_count": 23,
   "metadata": {},
   "outputs": [
    {
     "data": {
      "text/plain": [
       "[[0.0,\n",
       "  0.0,\n",
       "  0.0,\n",
       "  0.0,\n",
       "  0.0,\n",
       "  0.0,\n",
       "  6.666666666666667e-05,\n",
       "  0.0002,\n",
       "  0.0004,\n",
       "  0.002533333333333333],\n",
       " [0.0, 0.0, 0.0, 0.0, 0.0, 0.0, 0.0, 0.0, 0.0, 0.0],\n",
       " [0.0, 0.0, 0.0, 0.0, 0.0, 0.0, 0.0, 0.0, 0.0, 0.0],\n",
       " [0.0, 0.0, 0.0, 0.0, 0.0, 0.0, 0.0, 0.0, 0.0, 0.0]]"
      ]
     },
     "execution_count": 23,
     "metadata": {},
     "output_type": "execute_result"
    }
   ],
   "source": [
    "fp_rates_list_5"
   ]
  },
  {
   "cell_type": "code",
   "execution_count": 24,
   "metadata": {},
   "outputs": [
    {
     "data": {
      "image/png": "[encoded data removed]",
      "text/plain": [
       "<Figure size 432x288 with 1 Axes>"
      ]
     },
     "metadata": {
      "needs_background": "light"
     },
     "output_type": "display_data"
    }
   ],
   "source": [
    "# line 1 points\n",
    "x1 = num_of_str\n",
    "y1 = fp_rates_list_1[0]\n",
    "# plotting the line 1 points\n",
    "plt.plot(x1, y1, label = \"2 hash function\")\n",
    "\n",
    "# line 2 points\n",
    "x2 = num_of_str\n",
    "y2 = fp_rates_list_1[1]\n",
    "# plotting the line 2 points\n",
    "plt.plot(x2, y2, label = \"4 hash function\")\n",
    "\n",
    "# line 3 points\n",
    "x2 = num_of_str\n",
    "y2 = fp_rates_list_1[2]\n",
    "# plotting the line 2 points\n",
    "plt.plot(x2, y2, label = \"6 hash function\")\n",
    "\n",
    "# line 4 points\n",
    "x2 = num_of_str\n",
    "y2 = fp_rates_list_1[3]\n",
    "# plotting the line 2 points\n",
    "plt.plot(x2, y2, label = \"8 hash function\")\n",
    "\n",
    "\n",
    "# naming the x axis\n",
    "plt.xlabel('number of strings')\n",
    "# naming the y axis\n",
    "plt.ylabel('false positive rate')\n",
    "# giving a title to my graph\n",
    "plt.title('bloom filter with size 2**4')\n",
    "\n",
    "# show a legend on the plot\n",
    "plt.legend()\n",
    "\n",
    "# function to show the plot\n",
    "plt.show()\n"
   ]
  },
  {
   "cell_type": "code",
   "execution_count": 25,
   "metadata": {},
   "outputs": [
    {
     "data": {
      "image/png": "[encoded data removed]",
      "text/plain": [
       "<Figure size 432x288 with 1 Axes>"
      ]
     },
     "metadata": {
      "needs_background": "light"
     },
     "output_type": "display_data"
    }
   ],
   "source": [
    "# line 1 points\n",
    "x1 = num_of_str\n",
    "y1 = fp_rates_list_2[0]\n",
    "# plotting the line 1 points\n",
    "plt.plot(x1, y1, label = \"2 hash function\")\n",
    "\n",
    "# line 2 points\n",
    "x2 = num_of_str\n",
    "y2 = fp_rates_list_2[1]\n",
    "# plotting the line 2 points\n",
    "plt.plot(x2, y2, label = \"4 hash function\")\n",
    "\n",
    "# line 3 points\n",
    "x2 = num_of_str\n",
    "y2 = fp_rates_list_2[2]\n",
    "# plotting the line 2 points\n",
    "plt.plot(x2, y2, label = \"6 hash function\")\n",
    "\n",
    "# line 4 points\n",
    "x2 = num_of_str\n",
    "y2 = fp_rates_list_2[3]\n",
    "# plotting the line 2 points\n",
    "plt.plot(x2, y2, label = \"8 hash function\")\n",
    "\n",
    "\n",
    "# naming the x axis\n",
    "plt.xlabel('number of strings')\n",
    "# naming the y axis\n",
    "plt.ylabel('false positive rate')\n",
    "# giving a title to my graph\n",
    "plt.title('bloom filter with size 2**8')\n",
    "\n",
    "# show a legend on the plot\n",
    "plt.legend()\n",
    "\n",
    "# function to show the plot\n",
    "plt.show()\n"
   ]
  },
  {
   "cell_type": "code",
   "execution_count": 26,
   "metadata": {},
   "outputs": [
    {
     "data": {
      "image/png": "[encoded data removed]",
      "text/plain": [
       "<Figure size 432x288 with 1 Axes>"
      ]
     },
     "metadata": {
      "needs_background": "light"
     },
     "output_type": "display_data"
    }
   ],
   "source": [
    "# line 1 points\n",
    "x1 = num_of_str\n",
    "y1 = fp_rates_list_3[0]\n",
    "# plotting the line 1 points\n",
    "plt.plot(x1, y1, label = \"2 hash function\")\n",
    "\n",
    "# line 2 points\n",
    "x2 = num_of_str\n",
    "y2 = fp_rates_list_3[1]\n",
    "# plotting the line 2 points\n",
    "plt.plot(x2, y2, label = \"4 hash function\")\n",
    "\n",
    "# line 3 points\n",
    "x2 = num_of_str\n",
    "y2 = fp_rates_list_3[2]\n",
    "# plotting the line 2 points\n",
    "plt.plot(x2, y2, label = \"6 hash function\")\n",
    "\n",
    "# line 4 points\n",
    "x2 = num_of_str\n",
    "y2 = fp_rates_list_3[3]\n",
    "# plotting the line 2 points\n",
    "plt.plot(x2, y2, label = \"8 hash function\")\n",
    "\n",
    "\n",
    "# naming the x axis\n",
    "plt.xlabel('number of strings')\n",
    "# naming the y axis\n",
    "plt.ylabel('false positive rate')\n",
    "# giving a title to my graph\n",
    "plt.title('bloom filter with size 2**12')\n",
    "\n",
    "# show a legend on the plot\n",
    "plt.legend()\n",
    "\n",
    "# function to show the plot\n",
    "plt.show()\n"
   ]
  },
  {
   "cell_type": "code",
   "execution_count": 27,
   "metadata": {},
   "outputs": [
    {
     "data": {
      "image/png": "[encoded data removed]",
      "text/plain": [
       "<Figure size 432x288 with 1 Axes>"
      ]
     },
     "metadata": {
      "needs_background": "light"
     },
     "output_type": "display_data"
    }
   ],
   "source": [
    "# line 1 points\n",
    "x1 = num_of_str\n",
    "y1 = fp_rates_list_4[0]\n",
    "# plotting the line 1 points\n",
    "plt.plot(x1, y1, label = \"2 hash function\")\n",
    "\n",
    "# line 2 points\n",
    "x2 = num_of_str\n",
    "y2 = fp_rates_list_4[1]\n",
    "# plotting the line 2 points\n",
    "plt.plot(x2, y2, label = \"4 hash function\")\n",
    "\n",
    "# line 3 points\n",
    "x2 = num_of_str\n",
    "y2 = fp_rates_list_4[2]\n",
    "# plotting the line 2 points\n",
    "plt.plot(x2, y2, label = \"6 hash function\")\n",
    "\n",
    "# line 4 points\n",
    "x2 = num_of_str\n",
    "y2 = fp_rates_list_4[3]\n",
    "# plotting the line 2 points\n",
    "plt.plot(x2, y2, label = \"8 hash function\")\n",
    "\n",
    "\n",
    "# naming the x axis\n",
    "plt.xlabel('number of strings')\n",
    "# naming the y axis\n",
    "plt.ylabel('false positive rate')\n",
    "# giving a title to my graph\n",
    "plt.title('bloom filter with size 2**16')\n",
    "\n",
    "# show a legend on the plot\n",
    "plt.legend()\n",
    "\n",
    "# function to show the plot\n",
    "plt.show()\n"
   ]
  },
  {
   "cell_type": "code",
   "execution_count": 28,
   "metadata": {},
   "outputs": [
    {
     "data": {
      "image/png": "[encoded data removed]",
      "text/plain": [
       "<Figure size 432x288 with 1 Axes>"
      ]
     },
     "metadata": {
      "needs_background": "light"
     },
     "output_type": "display_data"
    }
   ],
   "source": [
    "# line 1 points\n",
    "x1 = num_of_str\n",
    "y1 = fp_rates_list_5[0]\n",
    "# plotting the line 1 points\n",
    "plt.plot(x1, y1, label = \"2 hash function\")\n",
    "\n",
    "# line 2 points\n",
    "x2 = num_of_str\n",
    "y2 = fp_rates_list_5[1]\n",
    "# plotting the line 2 points\n",
    "plt.plot(x2, y2, label = \"4 hash function\")\n",
    "\n",
    "# line 3 points\n",
    "x2 = num_of_str\n",
    "y2 = fp_rates_list_5[2]\n",
    "# plotting the line 2 points\n",
    "plt.plot(x2, y2, label = \"6 hash function\")\n",
    "\n",
    "# line 4 points\n",
    "x2 = num_of_str\n",
    "y2 = fp_rates_list_5[3]\n",
    "# plotting the line 2 points\n",
    "plt.plot(x2, y2, label = \"8 hash function\")\n",
    "\n",
    "\n",
    "# naming the x axis\n",
    "plt.xlabel('number of strings')\n",
    "# naming the y axis\n",
    "plt.ylabel('false positive rate')\n",
    "# giving a title to my graph\n",
    "plt.title('bloom filter with size 2**20')\n",
    "\n",
    "# show a legend on the plot\n",
    "plt.legend()\n",
    "\n",
    "# function to show the plot\n",
    "plt.show()\n"
   ]
  },
  {
   "cell_type": "code",
   "execution_count": null,
   "metadata": {},
   "outputs": [],
   "source": []
  },
  {
   "cell_type": "code",
   "execution_count": null,
   "metadata": {},
   "outputs": [],
   "source": []
  }
 ],
 "metadata": {
  "kernelspec": {
   "display_name": "Python 3.10.4 64-bit",
   "language": "python",
   "name": "python3"
  },
  "language_info": {
   "codemirror_mode": {
    "name": "ipython",
    "version": 3
   },
   "file_extension": ".py",
   "mimetype": "text/x-python",
   "name": "python",
   "nbconvert_exporter": "python",
   "pygments_lexer": "ipython3",
   "version": "3.10.4"
  },
  "orig_nbformat": 4,
  "vscode": {
   "interpreter": {
    "hash": "916dbcbb3f70747c44a77c7bcd40155683ae19c65e1c03b4aa3499c5328201f1"
   }
  }
 },
 "nbformat": 4,
 "nbformat_minor": 2
}
