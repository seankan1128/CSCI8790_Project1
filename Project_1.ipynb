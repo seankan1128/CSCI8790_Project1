{
 "cells": [
  {
   "cell_type": "code",
   "execution_count": 19,
   "metadata": {},
   "outputs": [],
   "source": [
    "from BloomFilter import BloomFilter\n",
    "from random import shuffle"
   ]
  },
  {
   "cell_type": "code",
   "execution_count": 29,
   "metadata": {},
   "outputs": [],
   "source": [
    "n = 2**20 #size of the array\n",
    "p = 6 #num of hash_f\n",
    "  \n",
    "bloomf = BloomFilter(n,p)"
   ]
  },
  {
   "cell_type": "code",
   "execution_count": 30,
   "metadata": {},
   "outputs": [],
   "source": [
    "# words to be added\n",
    "word_present = ['abound','abounds','abundance','abundant','accessible',\n",
    "                'bloom','blossom','bolster','bonny','bonus','bonuses',\n",
    "                'coherent','cohesive','colorful','comely','comfort',\n",
    "                'gems','generosity','generous','generously','genial']\n",
    "  \n",
    "# word not added\n",
    "word_absent = ['bluff','cheater','hate','war','humanity',\n",
    "               'racism','hurt','nuke','gloomy','facebook',\n",
    "               'geeksforgeeks','twitter']"
   ]
  },
  {
   "cell_type": "code",
   "execution_count": 31,
   "metadata": {},
   "outputs": [
    {
     "data": {
      "text/plain": [
       "21"
      ]
     },
     "execution_count": 31,
     "metadata": {},
     "output_type": "execute_result"
    }
   ],
   "source": [
    "len(word_present)"
   ]
  },
  {
   "cell_type": "code",
   "execution_count": 32,
   "metadata": {},
   "outputs": [],
   "source": [
    "\n",
    "for item in word_present:\n",
    "    bloomf.add(item)\n",
    "  \n",
    "shuffle(word_present)\n",
    "shuffle(word_absent)\n",
    "  "
   ]
  },
  {
   "cell_type": "code",
   "execution_count": 33,
   "metadata": {},
   "outputs": [],
   "source": [
    "test_words = word_present[:10] + word_absent"
   ]
  },
  {
   "cell_type": "code",
   "execution_count": 34,
   "metadata": {},
   "outputs": [],
   "source": [
    "shuffle(test_words)"
   ]
  },
  {
   "cell_type": "code",
   "execution_count": 35,
   "metadata": {},
   "outputs": [
    {
     "name": "stdout",
     "output_type": "stream",
     "text": [
      "'hate' is definitely not present!\n",
      "'generosity' is probably present!\n",
      "'blossom' is probably present!\n",
      "'humanity' is definitely not present!\n",
      "'genial' is probably present!\n",
      "'abundance' is probably present!\n",
      "'generous' is probably present!\n",
      "'cheater' is definitely not present!\n",
      "'twitter' is definitely not present!\n",
      "'gloomy' is definitely not present!\n",
      "'facebook' is definitely not present!\n",
      "'racism' is definitely not present!\n",
      "'coherent' is probably present!\n",
      "'bonuses' is probably present!\n",
      "'nuke' is definitely not present!\n",
      "'bloom' is probably present!\n",
      "'comfort' is probably present!\n",
      "'hurt' is definitely not present!\n",
      "'geeksforgeeks' is definitely not present!\n",
      "'war' is definitely not present!\n",
      "'bluff' is definitely not present!\n",
      "'bonus' is probably present!\n"
     ]
    }
   ],
   "source": [
    "for word in test_words:\n",
    "    if bloomf.check(word):\n",
    "        if word in word_absent:\n",
    "            print(\"'{}' is a false positive!\".format(word))\n",
    "        else:\n",
    "            print(\"'{}' is probably present!\".format(word))\n",
    "    else:\n",
    "        print(\"'{}' is definitely not present!\".format(word))"
   ]
  },
  {
   "cell_type": "code",
   "execution_count": null,
   "metadata": {},
   "outputs": [],
   "source": []
  }
 ],
 "metadata": {
  "kernelspec": {
   "display_name": "Python 3.10.4 64-bit",
   "language": "python",
   "name": "python3"
  },
  "language_info": {
   "codemirror_mode": {
    "name": "ipython",
    "version": 3
   },
   "file_extension": ".py",
   "mimetype": "text/x-python",
   "name": "python",
   "nbconvert_exporter": "python",
   "pygments_lexer": "ipython3",
   "version": "3.10.4"
  },
  "orig_nbformat": 4,
  "vscode": {
   "interpreter": {
    "hash": "916dbcbb3f70747c44a77c7bcd40155683ae19c65e1c03b4aa3499c5328201f1"
   }
  }
 },
 "nbformat": 4,
 "nbformat_minor": 2
}
