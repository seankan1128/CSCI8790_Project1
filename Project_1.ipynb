{
 "cells": [
  {
   "cell_type": "code",
   "execution_count": 18,
   "metadata": {},
   "outputs": [],
   "source": [
    "from BloomFilter import BloomFilter\n",
    "from random import shuffle\n",
    "import pandas as pd"
   ]
  },
  {
   "cell_type": "code",
   "execution_count": 2,
   "metadata": {},
   "outputs": [],
   "source": [
    "n = 2**20 #size of the array\n",
    "h = 6 #num of hash_f\n",
    "  \n",
    "bloomf = BloomFilter(n,h)"
   ]
  },
  {
   "cell_type": "code",
   "execution_count": 3,
   "metadata": {},
   "outputs": [],
   "source": [
    "# words to be added\n",
    "word_present = ['abound','abounds','abundance','abundant','accessible',\n",
    "                'bloom','blossom','bolster','bonny','bonus','bonuses',\n",
    "                'coherent','cohesive','colorful','comely','comfort',\n",
    "                'gems','generosity','generous','generously','genial']\n",
    "  \n",
    "# word not added\n",
    "word_absent = ['bluff','cheater','hate','war','humanity',\n",
    "               'racism','hurt','nuke','gloomy','facebook',\n",
    "               'geeksforgeeks','twitter']"
   ]
  },
  {
   "cell_type": "code",
   "execution_count": 4,
   "metadata": {},
   "outputs": [
    {
     "data": {
      "text/plain": [
       "21"
      ]
     },
     "execution_count": 4,
     "metadata": {},
     "output_type": "execute_result"
    }
   ],
   "source": [
    "len(word_present)"
   ]
  },
  {
   "cell_type": "code",
   "execution_count": 5,
   "metadata": {},
   "outputs": [],
   "source": [
    "for item in word_present:\n",
    "    bloomf.insert_str(item)\n",
    "  \n",
    "shuffle(word_present)\n",
    "shuffle(word_absent)"
   ]
  },
  {
   "cell_type": "code",
   "execution_count": 6,
   "metadata": {},
   "outputs": [],
   "source": [
    "test_words = word_present[:10] + word_absent"
   ]
  },
  {
   "cell_type": "code",
   "execution_count": 7,
   "metadata": {},
   "outputs": [],
   "source": [
    "shuffle(test_words)"
   ]
  },
  {
   "cell_type": "code",
   "execution_count": 9,
   "metadata": {},
   "outputs": [
    {
     "name": "stdout",
     "output_type": "stream",
     "text": [
      "'twitter' is definitely not present!\n",
      "'generously' is probably present!\n",
      "'cohesive' is probably present!\n",
      "'blossom' is probably present!\n",
      "'coherent' is probably present!\n",
      "'nuke' is definitely not present!\n",
      "'gloomy' is definitely not present!\n",
      "'facebook' is definitely not present!\n",
      "'cheater' is definitely not present!\n",
      "'geeksforgeeks' is definitely not present!\n",
      "'bluff' is definitely not present!\n",
      "'generous' is probably present!\n",
      "'bonny' is probably present!\n",
      "'hurt' is definitely not present!\n",
      "'gems' is probably present!\n",
      "'hate' is definitely not present!\n",
      "'war' is definitely not present!\n",
      "'abundance' is probably present!\n",
      "'bonus' is probably present!\n",
      "'racism' is definitely not present!\n",
      "'abundant' is probably present!\n",
      "'humanity' is definitely not present!\n"
     ]
    }
   ],
   "source": [
    "for word in test_words:\n",
    "    if bloomf.testmembership_str(word):\n",
    "        if word in word_absent:\n",
    "            print(\"'{}' is a false positive!\".format(word))\n",
    "        else:\n",
    "            print(\"'{}' is probably present!\".format(word))\n",
    "    else:\n",
    "        print(\"'{}' is definitely not present!\".format(word))"
   ]
  },
  {
   "cell_type": "code",
   "execution_count": 11,
   "metadata": {},
   "outputs": [],
   "source": [
    "bloomfilter_size = [2**4,2**8,2**12,2**16,2**20]\n",
    "num_hash = [2,4,6,8]\n",
    "num_of_str = [100,250,500,750,1000,2500,5000,7500,10000,25000]"
   ]
  },
  {
   "cell_type": "code",
   "execution_count": 16,
   "metadata": {},
   "outputs": [
    {
     "data": {
      "text/plain": [
       "20"
      ]
     },
     "execution_count": 16,
     "metadata": {},
     "output_type": "execute_result"
    }
   ],
   "source": [
    "bloomfilter_list = []\n",
    "for size in bloomfilter_size:\n",
    "    for num in num_hash:\n",
    "        bloomfilter_list.append(BloomFilter(size,num))\n",
    "len(bloomfilter_list)"
   ]
  },
  {
   "cell_type": "code",
   "execution_count": 25,
   "metadata": {},
   "outputs": [
    {
     "name": "stdout",
     "output_type": "stream",
     "text": [
      "(42895, 1)\n",
      "<bound method NDFrame.head of               a\n",
      "0           a's\n",
      "1            aa\n",
      "2           aaa\n",
      "3          aahs\n",
      "4           aal\n",
      "...         ...\n",
      "42890     zorro\n",
      "42891  zucchini\n",
      "42892      zulu\n",
      "42893    zurich\n",
      "42894    zydeco\n",
      "\n",
      "[42895 rows x 1 columns]>\n"
     ]
    }
   ],
   "source": [
    "data = pd.read_csv(\"wlist_match11.txt\")\n",
    "print(data.shape)\n",
    "print(data.head)"
   ]
  },
  {
   "cell_type": "code",
   "execution_count": null,
   "metadata": {},
   "outputs": [],
   "source": [
    "da"
   ]
  }
 ],
 "metadata": {
  "kernelspec": {
   "display_name": "Python 3.10.4 64-bit",
   "language": "python",
   "name": "python3"
  },
  "language_info": {
   "codemirror_mode": {
    "name": "ipython",
    "version": 3
   },
   "file_extension": ".py",
   "mimetype": "text/x-python",
   "name": "python",
   "nbconvert_exporter": "python",
   "pygments_lexer": "ipython3",
   "version": "3.10.4"
  },
  "orig_nbformat": 4,
  "vscode": {
   "interpreter": {
    "hash": "916dbcbb3f70747c44a77c7bcd40155683ae19c65e1c03b4aa3499c5328201f1"
   }
  }
 },
 "nbformat": 4,
 "nbformat_minor": 2
}
